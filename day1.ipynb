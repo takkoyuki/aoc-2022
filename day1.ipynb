{
 "cells": [
  {
   "cell_type": "code",
   "execution_count": 28,
   "id": "976155b3",
   "metadata": {},
   "outputs": [],
   "source": [
    "elf1 =[1000,2000,3000]\n",
    "elf2 =[4000]\n",
    "elf3 =[5000,6000]\n",
    "elf4 =[7000,8000,9000]\n",
    "elf5 =[10000]\n",
    "            \n",
    "elf_list =[elf1, elf2, elf3, elf4, elf5]\n"
   ]
  },
  {
   "cell_type": "code",
   "execution_count": 36,
   "id": "9ae76cba",
   "metadata": {},
   "outputs": [
    {
     "name": "stdout",
     "output_type": "stream",
     "text": [
      "253\n"
     ]
    }
   ],
   "source": [
    "with open('data/day1', 'r') as f:\n",
    "    elf_list = f.read().strip().split('\\n\\n')\n",
    "    elf_list = [[int(y) for y in x.split('\\n')] for x in elf_list]\n",
    "print(len(elf_list))"
   ]
  },
  {
   "cell_type": "code",
   "execution_count": 3,
   "id": "e37ec734",
   "metadata": {},
   "outputs": [
    {
     "name": "stdout",
     "output_type": "stream",
     "text": [
      "[[1000, 2000, 3000], [4000], [5000, 6000], [7000, 8000, 9000], [10000]]\n"
     ]
    }
   ],
   "source": [
    "print(elf_list)"
   ]
  },
  {
   "cell_type": "code",
   "execution_count": 4,
   "id": "d0410cad",
   "metadata": {},
   "outputs": [
    {
     "name": "stdout",
     "output_type": "stream",
     "text": [
      "1000\n",
      "2000\n",
      "3000\n"
     ]
    }
   ],
   "source": [
    "tasu1 = 0\n",
    "\n",
    "print (elf1[0])\n",
    "print(elf1[1])\n",
    "print(elf1[2])"
   ]
  },
  {
   "cell_type": "code",
   "execution_count": 5,
   "id": "9c558a67",
   "metadata": {},
   "outputs": [
    {
     "name": "stdout",
     "output_type": "stream",
     "text": [
      "1000\n",
      "2000\n",
      "3000\n"
     ]
    }
   ],
   "source": [
    "for cal in elf1:\n",
    "    print(cal)"
   ]
  },
  {
   "cell_type": "code",
   "execution_count": 8,
   "id": "b331007b",
   "metadata": {},
   "outputs": [
    {
     "name": "stdout",
     "output_type": "stream",
     "text": [
      "1000\n",
      "2000\n",
      "3000\n"
     ]
    }
   ],
   "source": [
    "for i in [0,1,2]:\n",
    "    cal = elf1[i]\n",
    "    print(cal)"
   ]
  },
  {
   "cell_type": "code",
   "execution_count": 9,
   "id": "566af551",
   "metadata": {},
   "outputs": [
    {
     "name": "stdout",
     "output_type": "stream",
     "text": [
      "6000\n"
     ]
    }
   ],
   "source": [
    "tasu1 = 0\n",
    "\n",
    "for cal in elf1:\n",
    "    tasu1 += cal\n",
    "\n",
    "print(tasu1)"
   ]
  },
  {
   "cell_type": "code",
   "execution_count": 44,
   "id": "fc485d92",
   "metadata": {},
   "outputs": [
    {
     "name": "stdout",
     "output_type": "stream",
     "text": [
      "[41973, 44876, 44148, 55622, 53228, 13392, 49383, 44820, 23412, 54996, 30425, 35645, 61096, 40572, 53916, 45816, 54363, 61985, 48744, 53796, 20208, 48939, 58933, 49657, 26563, 46800, 37663, 50355, 47512, 29755, 48225, 15544, 58054, 53779, 36727, 49965, 32126, 49734, 52617, 47988, 43092, 40462, 47564, 40159, 57120, 47173, 34427, 48355, 54965, 31440, 47975, 45531, 54495, 54395, 48775, 36582, 43111, 44157, 39608, 42305, 55486, 30542, 47152, 46158, 49182, 56894, 41029, 43838, 41108, 38614, 51715, 48611, 20091, 46395, 60136, 39955, 18660, 26639, 18662, 54246, 37738, 38907, 49899, 43955, 55263, 44090, 46049, 59317, 46024, 47758, 18712, 50889, 47835, 44559, 23698, 45566, 49616, 42125, 56434, 37456, 47102, 40940, 37316, 44250, 45972, 62518, 49174, 42419, 49864, 47191, 35291, 64690, 53142, 53459, 20001, 59967, 45971, 41236, 46952, 44287, 45339, 47430, 22054, 31310, 52970, 36522, 64929, 42580, 62154, 51971, 38742, 44903, 48768, 40959, 58988, 49708, 56693, 56901, 29981, 43348, 47672, 37741, 56817, 45066, 37263, 46148, 33979, 53280, 62711, 52809, 42756, 50209, 45758, 29648, 3984, 50768, 62014, 41954, 42738, 36621, 6170, 46670, 55533, 51991, 51232, 62048, 46461, 45293, 48779, 36680, 38915, 50992, 33482, 48675, 46168, 35918, 59117, 54449, 55301, 43642, 47100, 55072, 52176, 42785, 47928, 52615, 55075, 10572, 54042, 56471, 43202, 6279, 48393, 39735, 48917, 40766, 56326, 43957, 42490, 54095, 42173, 19784, 64078, 22002, 45297, 46704, 54716, 50968, 52108, 43891, 23509, 53953, 45886, 50833, 52599, 50916, 40554, 45560, 47462, 44526, 51430, 63931, 42358, 49741, 56124, 54695, 59818, 41580, 35112, 46190, 59475, 60659, 48301, 57762, 33851, 48733, 37188, 54204, 42587, 29831, 51403, 57556, 61027, 47935, 33146, 43891, 12228, 51484, 61057, 52115, 48684, 36871, 49410]\n"
     ]
    }
   ],
   "source": [
    "calnr = []\n",
    "for elfnr in elf_list:\n",
    "    tasu = 0\n",
    "    for cal in elfnr:\n",
    "        tasu += cal\n",
    "    calnr.append(tasu)\n",
    "\n",
    "print(calnr)"
   ]
  },
  {
   "cell_type": "code",
   "execution_count": 39,
   "id": "6335ec59",
   "metadata": {},
   "outputs": [],
   "source": [
    "calnr.sort(reverse=True)"
   ]
  },
  {
   "cell_type": "code",
   "execution_count": 41,
   "id": "5e0054a8",
   "metadata": {},
   "outputs": [
    {
     "data": {
      "text/plain": [
       "64929"
      ]
     },
     "execution_count": 41,
     "metadata": {},
     "output_type": "execute_result"
    }
   ],
   "source": [
    "calnr[0]"
   ]
  },
  {
   "cell_type": "code",
   "execution_count": 42,
   "id": "83175f5f",
   "metadata": {},
   "outputs": [
    {
     "data": {
      "text/plain": [
       "[64929, 64690, 64078]"
      ]
     },
     "execution_count": 42,
     "metadata": {},
     "output_type": "execute_result"
    }
   ],
   "source": [
    "calnr[:3]"
   ]
  },
  {
   "cell_type": "code",
   "execution_count": 43,
   "id": "e2e4ef20",
   "metadata": {},
   "outputs": [
    {
     "data": {
      "text/plain": [
       "193697"
      ]
     },
     "execution_count": 43,
     "metadata": {},
     "output_type": "execute_result"
    }
   ],
   "source": [
    "sum(calnr[:3])"
   ]
  },
  {
   "cell_type": "code",
   "execution_count": null,
   "id": "63b5e5c1",
   "metadata": {},
   "outputs": [],
   "source": []
  }
 ],
 "metadata": {
  "kernelspec": {
   "display_name": "Python 3 (ipykernel)",
   "language": "python",
   "name": "python3"
  },
  "language_info": {
   "codemirror_mode": {
    "name": "ipython",
    "version": 3
   },
   "file_extension": ".py",
   "mimetype": "text/x-python",
   "name": "python",
   "nbconvert_exporter": "python",
   "pygments_lexer": "ipython3",
   "version": "3.10.6"
  }
 },
 "nbformat": 4,
 "nbformat_minor": 5
}
