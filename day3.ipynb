{
 "cells": [
  {
   "cell_type": "code",
   "execution_count": 18,
   "id": "3209e567",
   "metadata": {},
   "outputs": [
    {
     "name": "stdout",
     "output_type": "stream",
     "text": [
      "300\n"
     ]
    }
   ],
   "source": [
    "with open('data/day3', 'r') as f:\n",
    "    gave = f.read().strip().split('\\n')\n",
    "print(len(gave))"
   ]
  },
  {
   "cell_type": "code",
   "execution_count": 19,
   "id": "01d1f5df",
   "metadata": {},
   "outputs": [
    {
     "name": "stdout",
     "output_type": "stream",
     "text": [
      "300 300\n"
     ]
    }
   ],
   "source": [
    "bag1=[]\n",
    "bag2=[]\n",
    "\n",
    "for g in gave:\n",
    "    n = len(g)//2\n",
    "    bag1.append(g[:n])\n",
    "\n",
    "    bag2.append(g[n:])\n",
    "print(len(bag1), len(bag2))"
   ]
  },
  {
   "cell_type": "code",
   "execution_count": 27,
   "id": "6409cb53",
   "metadata": {},
   "outputs": [
    {
     "name": "stdout",
     "output_type": "stream",
     "text": [
      "['w', 'N', 'L', 'F', 'h', 't', 'V', 'j', 'z', 'z', 'M', 'f', 'Z', 'r', 'v', 'D', 's', 'N', 'D', 'p', 'v', 'f', 'T', 'p', 'M', 'P', 'r', 'p', 'R', 'm', 'Q', 'd', 'q', 'T', 'g', 'n', 's', 'j', 'B', 'h', 'n', 'm', 'H', 'n', 'z', 'c', 'n', 'l', 'p', 'r', 'L', 'w', 'n', 'F', 'P', 'V', 'L', 'f', 'L', 'F', 'M', 'c', 'b', 'D', 'T', 'n', 'w', 'v', 'r', 'J', 'z', 'C', 'M', 'q', 'w', 'q', 'C', 'w', 'c', 'f', 'p', 'C', 'T', 'S', 'V', 'B', 'T', 'C', 's', 'Q', 'q', 'N', 'Z', 'j', 'p', 'r', 'j', 'G', 'H', 'H', 'R', 'Z', 'F', 's', 'm', 'R', 'f', 'n', 'D', 'r', 'q', 'm', 'l', 'P', 'b', 'n', 'l', 'M', 'S', 'l', 'j', 'N', 'p', 'h', 'v', 'M', 'v', 'g', 'w', 'R', 'j', 'T', 'J', 'n', 'q', 'w', 'C', 'f', 'p', 'N', 'v', 'z', 'v', 'G', 'W', 's', 'T', 't', 'Z', 'R', 'r', 'S', 'R', 'd', 'F', 'P', 'm', 'h', 'b', 'N', 'h', 'R', 't', 'g', 'W', 'h', 'N', 'L', 'T', 'z', 'Z', 'd', 'S', 'J', 'L', 'C', 'r', 'W', 'D', 'n', 'm', 't', 'g', 'T', 'D', 'j', 'z', 'G', 'd', 'v', 'D', 'z', 'n', 'S', 'l', 'v', 'w', 'j', 't', 'l', 'S', 'c', 'z', 'Z', 'c', 'v', 'g', 'g', 'W', 'R', 'z', 'W', 'w', 'J', 'L', 'N', 'm', 'R', 'f', 'J', 'b', 's', 'w', 'M', 'N', 'H', 'G', 'N', 'n', 'F', 'J', 'J', 'Z', 'P', 'c', 'J', 'T', 'v', 'T', 'H', 'g', 't', 'z', 'F', 'b', 'r', 'W', 'z', 'S', 'g', 'r', 'l', 'l', 'Q', 'g', 'G', 'f', 'L', 'r', 'j', 'C', 's', 'n', 'g', 'Z', 'L', 'F', 'H', 'W', 'g', 'S', 'v', 'M', 'j', 'd', 'S', 'M', 'p', 'j', 'J', 'j', 'Z', 'F', 'Q', 'z', 'L', 'Q', 'T', 'f', 'R', 'Q', 'F', 'd', 'f', 'c', 'T', 'J', 'p', 'C', 'D']\n",
      "300\n"
     ]
    }
   ],
   "source": [
    "yobun = list()\n",
    "numbersofgaveinbag1 = list(range(0,len(bag1)))\n",
    "for m in numbersofgaveinbag1:\n",
    "    for i in bag1[m]:\n",
    "        if i in bag2[m]:\n",
    "            yobun.append(i)\n",
    "            break\n",
    "print(yobun)\n",
    "print(len(yobun))"
   ]
  },
  {
   "cell_type": "code",
   "execution_count": 28,
   "id": "38048a7b",
   "metadata": {},
   "outputs": [
    {
     "name": "stdout",
     "output_type": "stream",
     "text": [
      "{'a': 1, 'b': 2, 'c': 3, 'd': 4, 'e': 5, 'f': 6, 'g': 7, 'h': 8, 'i': 9, 'j': 10, 'k': 11, 'l': 12, 'm': 13, 'n': 14, 'o': 15, 'p': 16, 'q': 17, 'r': 18, 's': 19, 't': 20, 'u': 21, 'v': 22, 'w': 23, 'x': 24, 'y': 25, 'z': 26}\n",
      "{'a': 1, 'b': 2, 'c': 3, 'd': 4, 'e': 5, 'f': 6, 'g': 7, 'h': 8, 'i': 9, 'j': 10, 'k': 11, 'l': 12, 'm': 13, 'n': 14, 'o': 15, 'p': 16, 'q': 17, 'r': 18, 's': 19, 't': 20, 'u': 21, 'v': 22, 'w': 23, 'x': 24, 'y': 25, 'z': 26, 'A': 27, 'B': 28, 'C': 29, 'D': 30, 'E': 31, 'F': 32, 'G': 33, 'H': 34, 'I': 35, 'J': 36, 'K': 37, 'L': 38, 'M': 39, 'N': 40, 'O': 41, 'P': 42, 'Q': 43, 'R': 44, 'S': 45, 'T': 46, 'U': 47, 'V': 48, 'W': 49, 'X': 50, 'Y': 51, 'Z': 52}\n"
     ]
    }
   ],
   "source": [
    "import string\n",
    "\n",
    "moji = {}\n",
    "\n",
    "for i, x in enumerate(string.ascii_lowercase):\n",
    "    moji[x]= i+1\n",
    "print(moji)\n",
    "\n",
    "for i, x in enumerate(string.ascii_uppercase):\n",
    "    moji[x]= i+27\n",
    "print(moji)"
   ]
  },
  {
   "cell_type": "code",
   "execution_count": 29,
   "id": "e5cb92ac",
   "metadata": {},
   "outputs": [
    {
     "name": "stdout",
     "output_type": "stream",
     "text": [
      "7848\n"
     ]
    }
   ],
   "source": [
    "gokei = 0\n",
    "for t in yobun:\n",
    "    gokei += moji[t]\n",
    "print(gokei)"
   ]
  },
  {
   "cell_type": "code",
   "execution_count": null,
   "id": "7ef0a29d",
   "metadata": {},
   "outputs": [],
   "source": [
    "yobun[0] # yobun no (naka no) 0\n",
    "moji['p'] # moji no (naka no) p"
   ]
  },
  {
   "cell_type": "code",
   "execution_count": null,
   "id": "d7dc7156",
   "metadata": {},
   "outputs": [],
   "source": []
  }
 ],
 "metadata": {
  "kernelspec": {
   "display_name": "Python 3 (ipykernel)",
   "language": "python",
   "name": "python3"
  },
  "language_info": {
   "codemirror_mode": {
    "name": "ipython",
    "version": 3
   },
   "file_extension": ".py",
   "mimetype": "text/x-python",
   "name": "python",
   "nbconvert_exporter": "python",
   "pygments_lexer": "ipython3",
   "version": "3.10.6"
  }
 },
 "nbformat": 4,
 "nbformat_minor": 5
}
